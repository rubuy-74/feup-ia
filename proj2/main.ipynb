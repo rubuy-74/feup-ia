{
 "cells": [
  {
   "cell_type": "markdown",
   "id": "6b9f4357",
   "metadata": {},
   "source": [
    "## Main Imports"
   ]
  },
  {
   "cell_type": "code",
   "execution_count": null,
   "id": "9f651a1a",
   "metadata": {},
   "outputs": [],
   "source": [
    "import pandas as pd\n",
    "import matplotlib.pyplot as plt\n",
    "import numpy as np\n",
    "import seaborn as sns"
   ]
  },
  {
   "cell_type": "markdown",
   "id": "8727b43c",
   "metadata": {},
   "source": [
    "## Data Preprocessing"
   ]
  },
  {
   "cell_type": "code",
   "execution_count": null,
   "id": "ad7a4e8e",
   "metadata": {},
   "outputs": [],
   "source": [
    "df_train  = pd.read_csv(\"data/train.csv\")\n",
    "df_sample = pd.read_csv(\"data/sample_submission.csv\")\n",
    "df_test   = pd.read_csv(\"data/train.csv\")\n",
    "\n",
    "labels = ['Insufficient_Weight', 'Normal_Weight', 'Obesity_Type_I', 'Obesity_Type_II', 'Obesity_Type_III' , 'Overweight_Level_I', 'Overweight_Level_II']\n",
    "\n",
    "# drop id (not useful)\n",
    "df_train.drop('id',axis=1,inplace=True)\n",
    "df_test.drop('id',axis=1,inplace=True)"
   ]
  },
  {
   "cell_type": "markdown",
   "id": "0482547f",
   "metadata": {},
   "source": [
    "## Additional Features"
   ]
  },
  {
   "cell_type": "code",
   "execution_count": null,
   "id": "0662f4a0",
   "metadata": {},
   "outputs": [],
   "source": [
    "df_train['BMI'] = (df_train['Weight'] / df_train['Height']**2)"
   ]
  },
  {
   "cell_type": "code",
   "execution_count": null,
   "id": "8eab6ba9",
   "metadata": {},
   "outputs": [],
   "source": [
    "numerical_cols   = df_train.select_dtypes(include=['int64','float64']).columns.tolist()\n",
    "categorical_cols = df_train.select_dtypes(include=[object]).columns.tolist()\n",
    "\n",
    "num_numerical_cols = len(numerical_cols)\n",
    "num_numerical_rows = num_numerical_cols // 4\n",
    "\n",
    "num_categorical_cols = len(categorical_cols)\n",
    "num_categorical_rows = num_categorical_cols // 4"
   ]
  },
  {
   "cell_type": "code",
   "execution_count": null,
   "id": "6ef2eff8",
   "metadata": {},
   "outputs": [],
   "source": [
    "from sklearn.model_selection import train_test_split\n",
    "\n",
    "y = df_train['NObeyesdad']\n",
    "x = df_train.copy().drop(columns=['NObeyesdad'])\n",
    "\n",
    "categoricals_cols_no_result = [col for col in categorical_cols if col != \"NObeyesdad\"]\n",
    "x = pd.get_dummies(x, columns=categoricals_cols_no_result, drop_first=True)\n",
    "\n",
    "x_train, x_test, y_train, y_test = train_test_split(x,y,test_size=0.20)"
   ]
  },
  {
   "cell_type": "code",
   "execution_count": null,
   "id": "25e5c0a0",
   "metadata": {},
   "outputs": [],
   "source": [
    "plt.hist(y)\n",
    "plt.title(f'NObeyesdad Distribution')\n",
    "plt.xticks(rotation=90)\n",
    "plt.show() \n"
   ]
  },
  {
   "cell_type": "code",
   "execution_count": null,
   "id": "073300d6",
   "metadata": {},
   "outputs": [],
   "source": [
    "from sklearn.metrics import accuracy_score,precision_score,recall_score,f1_score,confusion_matrix\n",
    "\n",
    "def get_stats(predictions):\n",
    "  result = {}\n",
    "  result['acc_score'] = accuracy_score(y_test,predictions)\n",
    "  result['prec_score'] = precision_score(y_test,predictions,average='macro')\n",
    "  result['recall_score'] = recall_score(y_test,predictions,average='macro')\n",
    "  result['f1_score'] = f1_score(y_test,predictions,average='macro')\n",
    "  result['confusion_matrix'] = confusion_matrix(y_test,predictions)\n",
    "  return result"
   ]
  },
  {
   "cell_type": "code",
   "execution_count": null,
   "id": "01f44e38",
   "metadata": {},
   "outputs": [],
   "source": [
    "\"\"\"\n",
    "Balancing the classes only decreases the accuracy\n",
    "\n",
    "# Count the occurrences of each class in the 'NObeyesdad' column\n",
    "class_counts = df_train['NObeyesdad'].value_counts()\n",
    "print(\"Class counts before balancing:\")\n",
    "print(class_counts)\n",
    "\n",
    "# Find the minimum count (least represented class)\n",
    "min_count = class_counts.min()\n",
    "\n",
    "# Balance the dataset by undersampling\n",
    "df_train = df_train.groupby('NObeyesdad').apply(lambda x: x.sample(min_count)).reset_index(drop=True)\n",
    "\"\"\""
   ]
  },
  {
   "cell_type": "code",
   "execution_count": null,
   "id": "a7aa5eea",
   "metadata": {},
   "outputs": [],
   "source": [
    "print(df_train.shape)"
   ]
  },
  {
   "cell_type": "code",
   "execution_count": null,
   "id": "3d251f98",
   "metadata": {},
   "outputs": [],
   "source": [
    "# number of na\n",
    "mv = df_train.isna().sum().sum()\n",
    "\n",
    "# number of duplicates\n",
    "dv = df_train.duplicated().sum()\n",
    "\n",
    "# there are no NAs or Duplicates in the test dataset\n",
    "print(mv)\n",
    "print(dv)"
   ]
  },
  {
   "cell_type": "code",
   "execution_count": null,
   "id": "95071454",
   "metadata": {},
   "outputs": [],
   "source": [
    "display(df_train.describe(include=[np.number]).T, df_train.describe(include=[object]).T)"
   ]
  },
  {
   "cell_type": "code",
   "execution_count": null,
   "id": "a69981dd",
   "metadata": {},
   "outputs": [],
   "source": [
    "# numerical cols histogram\n",
    "plt.figure(figsize=(20,6 * num_numerical_rows))\n",
    "for i ,col in enumerate(numerical_cols,1):\n",
    "    plt.subplot(num_numerical_rows, 5, i)\n",
    "    plt.hist(df_train[col])\n",
    "    plt.title(f'{col} Distribution')\n",
    "    plt.xticks(rotation=45)\n",
    "plt.tight_layout()\n",
    "plt.show() \n"
   ]
  },
  {
   "cell_type": "code",
   "execution_count": null,
   "id": "11d35ef2",
   "metadata": {},
   "outputs": [],
   "source": [
    "# categorical cols histogram\n",
    "plt.figure(figsize=(20,6 * num_categorical_rows))\n",
    "for i ,col in enumerate(categorical_cols,1):\n",
    "    plt.subplot(num_categorical_rows, 5, i)\n",
    "    plt.hist(df_train[col])\n",
    "    plt.title(f'{col} Distribution')\n",
    "    plt.xticks(rotation=45)\n",
    "plt.tight_layout()\n",
    "plt.show() \n"
   ]
  },
  {
   "cell_type": "code",
   "execution_count": null,
   "id": "74ae9fa7",
   "metadata": {},
   "outputs": [],
   "source": [
    "def corr(data):\n",
    "    plt.figure(figsize=(12,10))\n",
    "    sns.heatmap(data, annot=True, cmap='coolwarm', fmt='.2f', linewidths= 0.5)\n",
    "    plt.title('Correlation Matrix of Features')\n",
    "corr(df_train[numerical_cols].corr())"
   ]
  },
  {
   "cell_type": "markdown",
   "id": "e6b81262",
   "metadata": {},
   "source": [
    "## Decision Tree"
   ]
  },
  {
   "cell_type": "markdown",
   "id": "7a952e12",
   "metadata": {},
   "source": [
    "### Without FS"
   ]
  },
  {
   "cell_type": "code",
   "execution_count": null,
   "id": "733dd17c",
   "metadata": {},
   "outputs": [],
   "source": [
    "from sklearn.tree import DecisionTreeClassifier\n",
    "\n",
    "clf = DecisionTreeClassifier(ccp_alpha=0.01)\n",
    "clf = clf.fit(x_train,y_train)\n",
    "\n",
    "predictions = clf.predict(x_test)\n",
    "\n",
    "feature_importance = pd.DataFrame(clf.feature_importances_, index = x.columns).sort_values(0, ascending=False)\n",
    "feature_importance.head(10).plot(kind='bar')"
   ]
  },
  {
   "cell_type": "markdown",
   "id": "038cdda9",
   "metadata": {},
   "source": [
    "### With FS"
   ]
  },
  {
   "cell_type": "code",
   "execution_count": null,
   "id": "a36b837f",
   "metadata": {},
   "outputs": [],
   "source": [
    "from sklearn.feature_selection import RFE\n",
    "\n",
    "max_acc = 0\n",
    "best_features=0\n",
    "max_features = x.shape[1]\n",
    "\n",
    "for i in range(1,max_features):\n",
    "  rfe = RFE(estimator=clf, n_features_to_select=i)\n",
    "\n",
    "  rfe.fit(x_train, y_train)\n",
    "\n",
    "  selected_features = x_train.columns[rfe.support_]\n",
    "  print(\"Selected Features:\", selected_features)\n",
    "\n",
    "  x_train_rfe = rfe.transform(x_train)\n",
    "  x_test_rfe = rfe.transform(x_test)\n",
    "\n",
    "  clf.fit(x_train_rfe, y_train)\n",
    "  predictions = clf.predict(x_test_rfe)\n",
    "\n",
    "  acc = accuracy_score(y_test,predictions)\n",
    "  if(acc > max_acc):\n",
    "    max_acc = acc\n",
    "    best_features = i\n",
    "\n",
    "# .84\n",
    "# 14\n",
    "print(max_acc)\n",
    "print(best_features)"
   ]
  },
  {
   "cell_type": "markdown",
   "id": "1791adda",
   "metadata": {},
   "source": [
    "## K-Nearest-Neighbours"
   ]
  },
  {
   "cell_type": "markdown",
   "id": "c5ed84b0",
   "metadata": {},
   "source": [
    "### Without FS"
   ]
  },
  {
   "cell_type": "code",
   "execution_count": null,
   "id": "23a8cc60",
   "metadata": {},
   "outputs": [],
   "source": [
    "from sklearn.preprocessing import StandardScaler\n",
    "from sklearn.neighbors import KNeighborsClassifier\n",
    "\n",
    "scaler = StandardScaler()\n",
    "x_train_scaled = scaler.fit_transform(x_train)\n",
    "x_test_scaled = scaler.transform(x_test)\n",
    "\n",
    "knn = KNeighborsClassifier(n_neighbors=8)\n",
    "knn = knn.fit(x_train_scaled, y_train)\n",
    "\n",
    "predictions = knn.predict(x_test_scaled)"
   ]
  },
  {
   "cell_type": "markdown",
   "id": "084f2706",
   "metadata": {},
   "source": [
    "### With FS"
   ]
  },
  {
   "cell_type": "code",
   "execution_count": null,
   "id": "6bc98c05",
   "metadata": {},
   "outputs": [
    {
     "name": "stdout",
     "output_type": "stream",
     "text": [
      "Selected Features: Index(['BMI'], dtype='object')\n",
      "Selected Features: Index(['Weight', 'BMI'], dtype='object')\n",
      "Selected Features: Index(['Weight', 'BMI', 'Gender_Male'], dtype='object')\n",
      "Selected Features: Index(['Age', 'Weight', 'BMI', 'Gender_Male'], dtype='object')\n",
      "Selected Features: Index(['Age', 'Weight', 'BMI', 'Gender_Male', 'CALC_no'], dtype='object')\n",
      "Selected Features: Index(['Age', 'Weight', 'FAF', 'BMI', 'Gender_Male', 'CALC_no'], dtype='object')\n",
      "Selected Features: Index(['Age', 'Weight', 'FAF', 'BMI', 'Gender_Male', 'FAVC_yes', 'CALC_no'], dtype='object')\n",
      "Selected Features: Index(['Age', 'Weight', 'CH2O', 'FAF', 'BMI', 'Gender_Male', 'FAVC_yes',\n",
      "       'CALC_no'],\n",
      "      dtype='object')\n",
      "Selected Features: Index(['Age', 'Weight', 'CH2O', 'FAF', 'BMI', 'Gender_Male',\n",
      "       'family_history_with_overweight_yes', 'FAVC_yes', 'CALC_no'],\n",
      "      dtype='object')\n",
      "Selected Features: Index(['Age', 'Weight', 'CH2O', 'FAF', 'BMI', 'Gender_Male',\n",
      "       'family_history_with_overweight_yes', 'FAVC_yes', 'CAEC_no', 'CALC_no'],\n",
      "      dtype='object')\n",
      "Selected Features: Index(['Age', 'Weight', 'CH2O', 'FAF', 'BMI', 'Gender_Male',\n",
      "       'family_history_with_overweight_yes', 'FAVC_yes', 'CAEC_no',\n",
      "       'SMOKE_yes', 'CALC_no'],\n",
      "      dtype='object')\n",
      "Selected Features: Index(['Age', 'Height', 'Weight', 'CH2O', 'FAF', 'BMI', 'Gender_Male',\n",
      "       'family_history_with_overweight_yes', 'FAVC_yes', 'CAEC_no',\n",
      "       'SMOKE_yes', 'CALC_no'],\n",
      "      dtype='object')\n",
      "Selected Features: Index(['Age', 'Height', 'Weight', 'CH2O', 'FAF', 'BMI', 'Gender_Male',\n",
      "       'family_history_with_overweight_yes', 'FAVC_yes', 'CAEC_no',\n",
      "       'SMOKE_yes', 'CALC_no', 'MTRANS_Bike'],\n",
      "      dtype='object')\n",
      "Selected Features: Index(['Age', 'Height', 'Weight', 'CH2O', 'FAF', 'BMI', 'Gender_Male',\n",
      "       'family_history_with_overweight_yes', 'FAVC_yes', 'CAEC_no',\n",
      "       'SMOKE_yes', 'CALC_no', 'MTRANS_Bike', 'MTRANS_Motorbike'],\n",
      "      dtype='object')\n"
     ]
    }
   ],
   "source": [
    "from sklearn.feature_selection import SequentialFeatureSelector\n",
    "\n",
    "max_acc = 0\n",
    "best_features=0\n",
    "max_features = x.shape[1]\n",
    "\n",
    "for i in range(1,max_features):\n",
    "  sfs = SequentialFeatureSelector(\n",
    "      estimator=knn,\n",
    "      n_features_to_select=i, \n",
    "      direction='forward',\n",
    "      scoring='accuracy',\n",
    "      cv=5,\n",
    "      n_jobs=-1\n",
    "  )\n",
    "\n",
    "  sfs.fit(x_train, y_train)\n",
    "\n",
    "  selected_features = x_train.columns[sfs.get_support()]\n",
    "  print(\"Selected Features:\", selected_features)\n",
    "\n",
    "  x_train_sfs = sfs.transform(x_train)\n",
    "  x_test_sfs = sfs.transform(x_test)\n",
    "\n",
    "  knn.fit(x_train_sfs, y_train)\n",
    "\n",
    "  predictions = knn.predict(x_test_sfs)\n",
    "  acc = accuracy_score(y_test, predictions)\n",
    "\n",
    "  if(acc > max_acc):\n",
    "    max_acc = acc\n",
    "    best_features = i\n",
    "\n",
    "print(max_acc)\n",
    "print(best_features)"
   ]
  },
  {
   "cell_type": "markdown",
   "id": "ccb8c49f",
   "metadata": {},
   "source": [
    "## Support Vector Machines"
   ]
  },
  {
   "cell_type": "code",
   "execution_count": null,
   "id": "5354ba9c",
   "metadata": {},
   "outputs": [],
   "source": [
    "from sklearn.svm import SVC\n",
    "\n",
    "svc = SVC()\n",
    "svc.fit(x_train,y_train)\n",
    "\n",
    "predictions = svc.predict(x_test)"
   ]
  },
  {
   "cell_type": "markdown",
   "id": "f06ccad2",
   "metadata": {},
   "source": [
    "### Support Vector Classifier"
   ]
  },
  {
   "cell_type": "code",
   "execution_count": null,
   "id": "a81e5761",
   "metadata": {},
   "outputs": [],
   "source": [
    "from sklearn.feature_selection import SequentialFeatureSelector\n",
    "\n",
    "max_acc = 0\n",
    "best_features=0\n",
    "max_features = x.shape[1]\n",
    "\n",
    "for i in range(1,max_features):\n",
    "  sfs = SequentialFeatureSelector(\n",
    "      estimator=svc,\n",
    "      n_features_to_select=i, \n",
    "      direction='forward',\n",
    "      scoring='accuracy',\n",
    "      cv=5,\n",
    "      n_jobs=-1\n",
    "  )\n",
    "  \n",
    "  sfs.fit(x_train, y_train)\n",
    "\n",
    "  selected_features = x_train.columns[sfs.get_support()]\n",
    "  print(\"Selected Features:\", selected_features)\n",
    "  \n",
    "  x_train_sfs = sfs.transform(x_train)\n",
    "  x_test_sfs = sfs.transform(x_test)\n",
    "\n",
    "  svc.fit(x_train_sfs, y_train)\n",
    "\n",
    "  predictions = svc.predict(x_test_sfs)\n",
    "  acc = accuracy_score(y_test, predictions)\n",
    "\n",
    "  if(acc > max_acc):\n",
    "    max_acc = acc\n",
    "    best_features = i\n",
    "    print(\"Current best:\" + str(best_features))\n",
    "\n",
    "print(max_acc)\n",
    "print(best_features)"
   ]
  },
  {
   "cell_type": "markdown",
   "id": "5a613490",
   "metadata": {},
   "source": [
    "# Neural Networks"
   ]
  },
  {
   "cell_type": "code",
   "execution_count": null,
   "id": "2ca36053",
   "metadata": {},
   "outputs": [],
   "source": [
    "from sklearn.metrics import mean_squared_error, ConfusionMatrixDisplay\n",
    "from sklearn.neural_network import MLPClassifier\n",
    "from sklearn.preprocessing import LabelEncoder, StandardScaler\n",
    "from sklearn.metrics import accuracy_score, classification_report\n",
    "import matplotlib.pyplot as plt\n",
    "\n",
    "scaler = StandardScaler()\n",
    "x_train_scaled = scaler.fit_transform(x_train)\n",
    "x_test_scaled = scaler.transform(x_test)\n",
    "\n",
    "label_encoder = LabelEncoder()\n",
    "y_train_encoded = label_encoder.fit_transform(y_train)\n",
    "\n",
    "y_test_encoded = label_encoder.transform(y_test)\n",
    "\n",
    "model = MLPClassifier(\n",
    "    hidden_layer_sizes=(250, 150, 100),\n",
    "    activation='relu',\n",
    "    solver='adam',                    \n",
    "    alpha=0.0001,                      \n",
    "    batch_size='auto',\n",
    "    learning_rate='adaptive',         \n",
    "    max_iter=1000,                     \n",
    "    early_stopping=True,               \n",
    "    validation_fraction=0.2,          \n",
    "    n_iter_no_change=10,          \n",
    ")\n",
    "\n",
    "model.fit(x_train_scaled, y_train_encoded)\n",
    "y_pred = model.predict(x_test_scaled)\n",
    "mse = mean_squared_error(y_test_encoded, y_pred)\n",
    "\n",
    "plt.figure(figsize=(12, 8))\n",
    "plt.subplot(2, 2, 1)\n",
    "plt.scatter(y_test_encoded, y_pred, alpha=0.5, color=\"red\", label=\"Predicted\")\n",
    "plt.scatter(y_test_encoded, y_test_encoded, alpha=0.5, color='blue', label='Actual')\n",
    "plt.plot(y_test_encoded, y_test_encoded, color='green', linewidth=2)\n",
    "plt.title('Neural Network Predicted vs. Actual Values')\n",
    "plt.legend()\n",
    "plt.show()\n",
    "\n",
    "print(accuracy_score(y_test_encoded,y_pred)) # 0.87\n",
    "print(classification_report(y_test_encoded, y_pred, target_names=labels))\n",
    "\n",
    "cm_display = ConfusionMatrixDisplay(confusion_matrix=confusion_matrix(y_test_encoded,y_pred), display_labels=labels)\n",
    "fig, ax = plt.subplots(figsize=(10, 8))\n",
    "cm_display.plot(ax=ax)\n",
    "\n",
    "plt.xticks(rotation=90)\n",
    "plt.tight_layout()\n",
    "plt.show()"
   ]
  }
 ],
 "metadata": {
  "kernelspec": {
   "display_name": "env",
   "language": "python",
   "name": "python3"
  },
  "language_info": {
   "codemirror_mode": {
    "name": "ipython",
    "version": 3
   },
   "file_extension": ".py",
   "mimetype": "text/x-python",
   "name": "python",
   "nbconvert_exporter": "python",
   "pygments_lexer": "ipython3",
   "version": "3.10.13"
  }
 },
 "nbformat": 4,
 "nbformat_minor": 5
}
