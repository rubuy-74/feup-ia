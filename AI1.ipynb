{
  "cells": [
    {
      "cell_type": "markdown",
      "metadata": {
        "id": "fvHqhKsiwx7F"
      },
      "source": [
        "# Artificial Intelligence\n",
        "## L.EIC – 3rd Year/2nd Semester\n",
        "### Exercise Sheet 1\n",
        "# Solving Problems by Searching"
      ]
    },
    {
      "cell_type": "markdown",
      "metadata": {
        "id": "Iiq6Y-8nwx7L"
      },
      "source": [
        "## The Two Buckets Problem\n",
        "\n",
        "<img src=\"https://qph.cf2.quoracdn.net/main-qimg-45726b16b460cae0147ae8ca245a8fb0-pjlq\" width=\"250px\" height=\"250px\" align=\"right\">\n",
        "\n",
        "Two buckets of capacities **c1** (e.g. 4 liters) and **c2** (e.g. 3 liters), respectively, are initially empty. The buckets do not have any intermediate markings. The only operations you can perform are:\n",
        "\n",
        "- Fill (completely) a bucket\n",
        "- Empty a bucket.\n",
        "- Pour one bucket into the other (until the target one is full or the source one is empty).\n",
        "\n",
        "The aim is to determine which operations to carry out so that the first bucket contains exactly **n** liters (e.g. 2 litres)."
      ]
    },
    {
      "cell_type": "markdown",
      "metadata": {
        "id": "wP4SKdT1wx7N"
      },
      "source": [
        "Formulate this problem as a search problem by defining the state representation, initial state, operators (their name, preconditions, effects, and cost), and objective test."
      ]
    },
    {
      "cell_type": "code",
      "execution_count": null,
      "metadata": {
        "id": "becm-oGZwx7P"
      },
      "outputs": [],
      "source": [
        "State:\n",
        "    [W1/W2]\n",
        "        W1: 0..4\n",
        "        W2: 0..3\n",
        "Initial State:\n",
        "    W1 = 0\n",
        "    W2 = 0\n",
        "Operators:\n",
        "    (empty bucket W1) - empty1\n",
        "        precondition: W1 > 0\n",
        "        effect: W1 = 0\n",
        "        cost: 1\n",
        "    (empty bucket W2) - empty2\n",
        "        precondition: W2 > 0\n",
        "        effect: W2 = 0\n",
        "        cost: 1\n",
        "    (fill bucket W1) - fill1\n",
        "        precondition: W1 < 4\n",
        "        effect: W2 = 4\n",
        "        cost: 1\n",
        "    (fill bucket W2) - fill2\n",
        "        precondition: W2 < 3\n",
        "        effect: W2 = 3\n",
        "        cost: 1\n",
        "    (pour W1 to W2 until W2 is full) - pour1to2full\n",
        "        precondition: W1 + W2 >= 3 && W1 > 0 && W2 < 3\n",
        "        effect: W1=W1+W2-3 && W2=3\n",
        "        cost: 1\n",
        "    (pour W1 to W2 until W1 is empty) - pour1to2empty\n",
        "        precondition: W1 < 3 - W2 && W1 > 0 && W2 < 3\n",
        "        effect: W1=0 && W2 += W1\n",
        "        cost: 1\n",
        "    (pour W2 to W1 until W1 is full) - pour2to1full\n",
        "        precondition: W1 + W2 >= 4 && W2 > 0 && W1 < 4\n",
        "        effect: W2=W2+W1-4 && W1=4\n",
        "        cost: 1\n",
        "    (pour W2 to W1 until W2 is empty) pour2to1empty\n",
        "        precondition: W2 < 4 - W1 && W2 > 0 && W1 < 4\n",
        "        effect: W2=0 && W1 += W2\n",
        "        cost: 1\n",
        "Objective Test:\n",
        "    W1 = 2"
      ]
    },
    {
      "cell_type": "markdown",
      "metadata": {
        "id": "9SL9dCZywx7R"
      },
      "source": [
        "What is the size of the state space for this problem? Represent the state space by drawing the possible objective states and displaying some of the possible transitions from the initial state."
      ]
    },
    {
      "cell_type": "raw",
      "metadata": {
        "id": "Sl56faP3wx7T"
      },
      "source": [
        "5 * 4 = 20 states\n",
        "\n",
        "Objective States: (2,0), (2,1), (2,2), (2,3)\n",
        "\n",
        "Possible transitions:\n",
        "    fill1((0,0)) -> (4,0)\n",
        "    fill2((0,0)) -> (0,3)"
      ]
    },
    {
      "cell_type": "markdown",
      "metadata": {
        "id": "iI7OdJoIwx7U"
      },
      "source": [
        "Solve the problem by hand, using tree search. What solutions have you found?"
      ]
    },
    {
      "cell_type": "raw",
      "metadata": {
        "id": "zGStdQMmwx7V"
      },
      "source": [
        "(0,0) - (4,0) - (1,3) - (1,0) - (0,1) - (4,1) - (2,3)\n",
        "(0,0) - (0,3) - (3,0) - (3,3) - (4,2) - (0,2) - (2,0)"
      ]
    },
    {
      "cell_type": "markdown",
      "metadata": {
        "id": "bWMV5H2mwx7V"
      },
      "source": [
        "### Buildind a computational approach to handle the problem\n",
        "\n",
        "To build a program to solve the buckets problem, we will implement a solution that separates the problem definition from the algorithms used to traverse the state space. This way, we can reuse our implementations of the search strategies in other problems."
      ]
    },
    {
      "cell_type": "markdown",
      "metadata": {
        "id": "opvd0Sh-wx7X"
      },
      "source": [
        "#### Representing the two buckets problem as a search problem\n",
        "\n",
        "Let's start by defining a state for the buckets problem. For that, it'll suffice to aggregate two quantities, each representing the amount of water in one of the buckets. We also define a way of printing the state."
      ]
    },
    {
      "cell_type": "code",
      "execution_count": 1,
      "metadata": {
        "id": "xboQTgoLwx7Y"
      },
      "outputs": [],
      "source": [
        "class BucketState:\n",
        "    c1 = 4   # capacity for bucket 1\n",
        "    c2 = 3   # capacity for bucket 2\n",
        "\n",
        "    def __init__(self, b1, b2):\n",
        "        self.b1 = b1\n",
        "        self.b2 = b2\n",
        "\n",
        "    '''needed for the visited list'''\n",
        "    def __eq__(self, other):\n",
        "        if isinstance(other, self.__class__):\n",
        "            return self.__dict__ == other.__dict__\n",
        "        else:\n",
        "            return False\n",
        "\n",
        "    def __ne__(self, other):\n",
        "        \"\"\"Overrides the default implementation (unnecessary in Python 3)\"\"\"\n",
        "        return not self.__eq__(other)\n",
        "\n",
        "    def __hash__(self):\n",
        "        return hash((self.b1, self.b2))\n",
        "    ''' - '''\n",
        "\n",
        "    def __str__(self):\n",
        "        return \"(\" + str(self.b1) + \", \" + str(self.b2) + \")\""
      ]
    },
    {
      "cell_type": "markdown",
      "metadata": {
        "id": "i8fYFpmxwx7a"
      },
      "source": [
        "Now we define each of the operators on states:"
      ]
    },
    {
      "cell_type": "code",
      "execution_count": 8,
      "metadata": {
        "id": "9wp_eAXAwx7a"
      },
      "outputs": [],
      "source": [
        "# emptying the first bucket\n",
        "def empty1(state):\n",
        "    if state.b1 > 0:\n",
        "        return BucketState(0, state.b2)\n",
        "    return None\n",
        "\n",
        "def empty2(state):\n",
        "    if state.b2 > 0:\n",
        "        return BucketState(state.b1,0)\n",
        "    return None\n",
        "\n",
        "def fill1(state):\n",
        "    if state.b1 < state.c1:\n",
        "        return BucketState(state.c1,state.b2)\n",
        "    return None\n",
        "def fill2(state):\n",
        "    if state.b2 < state.c2:\n",
        "        return BucketState(state.b1,state.c2)\n",
        "    return None\n",
        "def pour12_fill2(state):\n",
        "    if(state.b1 + state.b2 >= state.c2 and state.b1 > 0 and state.b2 < state.c2):\n",
        "        return BucketState(state.b1+state.b2 - state.c2,state.c2)\n",
        "    return None\n",
        "def pour12_empty1(state):\n",
        "    if(state.b1 < state.c2 - state.b2 and state.b1 > 0 and state.b2 < state.c2):\n",
        "        return BucketState(0,state.b1+state.b2)\n",
        "    return None\n",
        "def pour21_fill1(state):\n",
        "    if(state.b1 + state.b2 >= state.c1 and state.b2 > 0 and state.b1 < state.c1):\n",
        "        return BucketState(state.c1,state.b1 + state.b2 - state.c1)\n",
        "    return None\n",
        "def pour21_empty2(state):\n",
        "    if(state.b2 < state.c1 - state.b1 and state.b2 > 0 and state.b1 < state.c1):\n",
        "        return BucketState(state.b1 + state.b2,0)\n",
        "    return None\n"
      ]
    },
    {
      "cell_type": "markdown",
      "metadata": {
        "id": "QfjrDvK0wx7b"
      },
      "source": [
        "The following function will aggregate all states that can be generated from a given one:"
      ]
    },
    {
      "cell_type": "code",
      "execution_count": 3,
      "metadata": {
        "id": "S22yVNLjwx7c"
      },
      "outputs": [],
      "source": [
        "def child_bucket_states(state):\n",
        "    new_states = []\n",
        "    if(empty1(state)):\n",
        "        new_states.append(empty1(state))\n",
        "    if(empty2(state)):\n",
        "        new_states.append(empty2(state))\n",
        "    if(fill1(state)):\n",
        "        new_states.append(fill1(state))\n",
        "    if(fill2(state)):\n",
        "        new_states.append(fill2(state))\n",
        "    if(pour12_fill2(state)):\n",
        "        new_states.append(pour12_fill2(state))\n",
        "    if(pour12_empty1(state)):\n",
        "        new_states.append(pour12_empty1(state))\n",
        "    if(pour21_fill1(state)):\n",
        "        new_states.append(pour21_fill1(state))\n",
        "    if(pour21_empty2(state)):\n",
        "        new_states.append(pour21_empty2(state))\n",
        "    return new_states"
      ]
    },
    {
      "cell_type": "markdown",
      "metadata": {
        "id": "FIje3xQ_wx7d"
      },
      "source": [
        "Play around with the state transition operators and check if they are working properly:"
      ]
    },
    {
      "cell_type": "code",
      "execution_count": 12,
      "metadata": {
        "colab": {
          "base_uri": "https://localhost:8080/"
        },
        "id": "UEEvC0UHwx7d",
        "outputId": "4a229bd2-8460-44f3-89d9-6e60427466c5"
      },
      "outputs": [
        {
          "output_type": "stream",
          "name": "stdout",
          "text": [
            "[<__main__.BucketState object at 0x7b9dfcf6abd0>, <__main__.BucketState object at 0x7b9dfcfc4490>]\n",
            "(0, 3)\n",
            "(3, 0)\n",
            "(3, 3)\n",
            "(4, 2)\n",
            "(0, 2)\n",
            "(2, 0)\n"
          ]
        }
      ],
      "source": [
        "s = BucketState(0, 0)\n",
        "#s = fill1(s)\n",
        "#print(s)\n",
        "\n",
        "print(child_bucket_states(BucketState(0, 0)))\n",
        "\n",
        "# your code here\n",
        "s = fill2(s)\n",
        "print(s)\n",
        "s = pour21_empty2(s)\n",
        "print(s)\n",
        "s = fill2(s)\n",
        "print(s)\n",
        "s = pour21_fill1(s)\n",
        "print(s)\n",
        "s = empty1(s)\n",
        "print(s)\n",
        "s = pour21_empty2(s)\n",
        "print(s)\n",
        "\n",
        "\n"
      ]
    },
    {
      "cell_type": "markdown",
      "metadata": {
        "id": "as8MJfB0wx7e"
      },
      "source": [
        "Finally, we need to define the goal condition:"
      ]
    },
    {
      "cell_type": "code",
      "execution_count": 13,
      "metadata": {
        "id": "vts9AX99wx7e"
      },
      "outputs": [],
      "source": [
        "def goal_bucket_state(state):\n",
        "    return state.b1 == 2\n",
        ""
      ]
    },
    {
      "cell_type": "markdown",
      "metadata": {
        "id": "5oB93t6iwx7f"
      },
      "source": [
        "Test your goal condition:"
      ]
    },
    {
      "cell_type": "code",
      "execution_count": 15,
      "metadata": {
        "colab": {
          "base_uri": "https://localhost:8080/"
        },
        "id": "uzIaTpmhwx7f",
        "outputId": "3c80c7a3-4ac7-449b-d4fd-efd65ecf403e"
      },
      "outputs": [
        {
          "output_type": "stream",
          "name": "stdout",
          "text": [
            "False\n",
            "False\n",
            "True\n"
          ]
        }
      ],
      "source": [
        "# your code here\n",
        "print(goal_bucket_state(BucketState(0,0)))\n",
        "print(goal_bucket_state(BucketState(1,2)))\n",
        "print(goal_bucket_state(BucketState(2,3)))"
      ]
    },
    {
      "cell_type": "markdown",
      "metadata": {
        "id": "L6CaK9dAwx7g"
      },
      "source": [
        "#### Implementing search algorithms\n",
        "\n",
        "Let us start by defining an appropriate structure to represent a node in a search tree. Each tree node will include:\n",
        "- a state of the problem\n",
        "- a link to its parent (to allow traveling from a leaf node towards the root of the tree)\n",
        "- a list of child nodes"
      ]
    },
    {
      "cell_type": "code",
      "execution_count": 16,
      "metadata": {
        "id": "lEAcrEeWwx7g"
      },
      "outputs": [],
      "source": [
        "# A generic definition of a tree node holding a state of the problem\n",
        "class TreeNode:\n",
        "    def __init__(self, state, parent=None):\n",
        "        self.state = state\n",
        "        self.parent = parent\n",
        "        self.children = []\n",
        "\n",
        "    def add_child(self, child_node):\n",
        "        self.children.append(child_node)\n",
        "        child_node.parent = self"
      ]
    },
    {
      "cell_type": "markdown",
      "metadata": {
        "id": "8JGZOpQBwx7g"
      },
      "source": [
        "##### Breadth-first search\n",
        "\n",
        "Based on this structure, we can now implement breadth-first search. Note that we want the implementation to be independent of the problem at hand (in this case, the two buckets problem)."
      ]
    },
    {
      "cell_type": "code",
      "execution_count": null,
      "metadata": {
        "id": "DWMPBwTMwx7g"
      },
      "outputs": [],
      "source": [
        "from collections import deque\n",
        "\n",
        "def breadth_first_search(initial_state, goal_state_func, operators_func):\n",
        "    root = TreeNode(initial_state)   # create the root node in the search tree\n",
        "    queue = deque([root])   # initialize the queue to store the nodes\n",
        "\n",
        "    while queue:\n",
        "        node = queue.popleft()   # get first element in the queue\n",
        "        if goal_state_func(node.state):   # check goal state\n",
        "            return node\n",
        "\n",
        "        for state in operators_func(node.state):   # go through next states\n",
        "            # create tree node with the new state\n",
        "            # your code here\n",
        "\n",
        "            # link child node to its parent in the tree\n",
        "            # your code here\n",
        "\n",
        "            # enqueue the child node\n",
        "            # your code here\n",
        "\n",
        "\n",
        "    return None"
      ]
    },
    {
      "cell_type": "markdown",
      "metadata": {
        "id": "aZr4OrJAwx7h"
      },
      "source": [
        "We can now use this function to actually perform a breadth-first search on the buckets problem: we pass it the initial state, our goal condition function, and the function for obtaining child states."
      ]
    },
    {
      "cell_type": "code",
      "execution_count": null,
      "metadata": {
        "id": "TeLC2YrWwx7h",
        "outputId": "5aa612b1-63bf-4aa4-d0b3-4e2101070540"
      },
      "outputs": [
        {
          "name": "stdout",
          "output_type": "stream",
          "text": [
            "(2, 3)\n"
          ]
        }
      ],
      "source": [
        "goal = breadth_first_search(BucketState(0,0),\n",
        "                            goal_bucket_state,\n",
        "                            child_bucket_states)\n",
        "print(goal.state)"
      ]
    },
    {
      "cell_type": "markdown",
      "metadata": {
        "id": "4kzynZwHwx7j"
      },
      "source": [
        "In order to print the actual steps from the initial state to the last, we can take advantage of each node's link to its parent."
      ]
    },
    {
      "cell_type": "code",
      "execution_count": null,
      "metadata": {
        "id": "mWr6FM5Gwx7j"
      },
      "outputs": [],
      "source": [
        "def print_solution(node):\n",
        "    # your code here\n",
        "\n",
        "    return"
      ]
    },
    {
      "cell_type": "markdown",
      "metadata": {
        "id": "A-apOWtpwx7k"
      },
      "source": [
        "Now we can print the solution:"
      ]
    },
    {
      "cell_type": "code",
      "execution_count": null,
      "metadata": {
        "id": "0-DU9uCEwx7k",
        "outputId": "0fc43022-b1f3-4e3a-cc88-e5cc1faf0df2"
      },
      "outputs": [
        {
          "name": "stdout",
          "output_type": "stream",
          "text": [
            "Found goal state in 6 steps:\n",
            "(0, 0)\n",
            "(4, 0)\n",
            "(1, 3)\n",
            "(1, 0)\n",
            "(0, 1)\n",
            "(4, 1)\n",
            "(2, 3)\n"
          ]
        }
      ],
      "source": [
        "print_solution(goal)"
      ]
    },
    {
      "cell_type": "markdown",
      "metadata": {
        "id": "Ixh9-2WKwx7l"
      },
      "source": [
        "If we need a description for each of the employed operators, we could have each operation function return also such a description, and modify the TreeNode class so that each node also includes a description of the edge to get there. We leave that as an exercise after class."
      ]
    },
    {
      "cell_type": "markdown",
      "metadata": {
        "id": "f6fQXhtiwx7l"
      },
      "source": [
        "##### Depth-first search\n",
        "\n",
        "Implement depth-first search (again, in a manner that is independent of the problem at hand). You can start from your breadth-first search implementation and with minor changes get an implementation for depth-first search."
      ]
    },
    {
      "cell_type": "code",
      "execution_count": null,
      "metadata": {
        "id": "pOA6FXPewx7l"
      },
      "outputs": [],
      "source": [
        "def depth_first_search(initial_state, goal_state_func, operators_func):\n",
        "    # your code here\n",
        ""
      ]
    },
    {
      "cell_type": "markdown",
      "metadata": {
        "id": "0sdlhBpSwx7m"
      },
      "source": [
        "Test it on the two buckets problem."
      ]
    },
    {
      "cell_type": "code",
      "execution_count": null,
      "metadata": {
        "id": "uTnpMdPEwx7m",
        "outputId": "c4ac8e44-47a5-43e6-c201-e3f3b3eae773"
      },
      "outputs": [
        {
          "name": "stdout",
          "output_type": "stream",
          "text": [
            "(2, 0)\n",
            "Found goal state in 6 steps:\n",
            "(0, 0)\n",
            "(0, 3)\n",
            "(3, 0)\n",
            "(3, 3)\n",
            "(4, 2)\n",
            "(0, 2)\n",
            "(2, 0)\n"
          ]
        }
      ],
      "source": [
        "# your code here\n"
      ]
    },
    {
      "cell_type": "markdown",
      "metadata": {
        "id": "jclb7Uu0wx7m"
      },
      "source": [
        "If you are unable to get a solution, think about it: depth-first search is not a complete search method, and one of the reasons for that is if the state space contains cycles. As such, you need to make sure you avoid entering into a cycle by keeping a visited nodes list or set and checking that list whenever you generate a new state."
      ]
    },
    {
      "cell_type": "markdown",
      "metadata": {
        "id": "xgvcoW-Ywx7m"
      },
      "source": [
        "##### Depth-limited search\n",
        "\n",
        "Another way to make it work is to impose a depth limit to the problem. Implement depth-limited search."
      ]
    },
    {
      "cell_type": "code",
      "execution_count": null,
      "metadata": {
        "id": "jjszQT3Iwx7n"
      },
      "outputs": [],
      "source": [
        "def depth_limited_search(initial_state, goal_state_func, operators_func, depth_limit):\n",
        "    # your code here\n",
        ""
      ]
    },
    {
      "cell_type": "markdown",
      "metadata": {
        "id": "SPcEIvM7wx7n"
      },
      "source": [
        "Test it on the two buckets problem."
      ]
    },
    {
      "cell_type": "code",
      "execution_count": null,
      "metadata": {
        "id": "W4Sl2wo3wx7o",
        "outputId": "a734bdcc-a807-461a-92f3-9c692f02cc84"
      },
      "outputs": [
        {
          "name": "stdout",
          "output_type": "stream",
          "text": [
            "(2, 3)\n",
            "Found goal state in 6 steps:\n",
            "(0, 0)\n",
            "(4, 0)\n",
            "(1, 3)\n",
            "(1, 0)\n",
            "(0, 1)\n",
            "(4, 1)\n",
            "(2, 3)\n"
          ]
        }
      ],
      "source": [
        "# your code here\n"
      ]
    },
    {
      "cell_type": "markdown",
      "metadata": {
        "id": "j6PQJrmhwx7o"
      },
      "source": [
        "##### Iterative deepening search\n",
        "\n",
        "Based on depth-limited, you can easily implement iterative-deepening search."
      ]
    },
    {
      "cell_type": "code",
      "execution_count": null,
      "metadata": {
        "id": "dcrJAn0awx7p"
      },
      "outputs": [],
      "source": [
        "def iterative_deepening_search(initial_state, goal_state_func, operators_func, depth_limit):\n",
        "    # your code here\n",
        ""
      ]
    },
    {
      "cell_type": "markdown",
      "metadata": {
        "id": "pyl7P9OIwx7p"
      },
      "source": [
        "Again, test it on the two buckets problem."
      ]
    },
    {
      "cell_type": "code",
      "execution_count": null,
      "metadata": {
        "id": "Gt0KkMRnwx7q",
        "outputId": "a0d7d8f2-c546-4654-dc22-5d60f03097c6"
      },
      "outputs": [
        {
          "name": "stdout",
          "output_type": "stream",
          "text": [
            "(2, 3)\n",
            "Found goal state in 6 steps:\n",
            "(0, 0)\n",
            "(4, 0)\n",
            "(1, 3)\n",
            "(1, 0)\n",
            "(0, 1)\n",
            "(4, 1)\n",
            "(2, 3)\n"
          ]
        }
      ],
      "source": [
        "# your code here\n"
      ]
    },
    {
      "cell_type": "markdown",
      "metadata": {
        "id": "52osvBU_wx7q"
      },
      "source": [
        "## The Missionaries and Cannibals Problem\n",
        "\n",
        "<img src=\"https://allfish24.files.wordpress.com/2016/09/gambar-1.jpg\">\n",
        "\n",
        "Three missionaries and three cannibals are on one of the banks of the river with a boat that only takes one or two people. The boat cannot travel the river alone.\n",
        "\n",
        "The goal is to find a way to get the six to the other bank of the river without ever leaving more cannibals than missionaries on one of the banks (even at the instant they leave/join the boat) during the process."
      ]
    },
    {
      "cell_type": "markdown",
      "metadata": {
        "id": "M0FDfdM4wx7r"
      },
      "source": [
        "Formulate this problem as a search problem by defining the state representation, initial state, operators (their name, preconditions, effects, and cost), and objective test."
      ]
    },
    {
      "cell_type": "raw",
      "metadata": {
        "id": "NmSxqHNpwx7r"
      },
      "source": [
        "\n",
        "\n"
      ]
    },
    {
      "cell_type": "markdown",
      "metadata": {
        "id": "O7oSprp0wx7s"
      },
      "source": [
        "Solve the problem by hand, using tree search. What solutions have you found?"
      ]
    },
    {
      "cell_type": "raw",
      "metadata": {
        "id": "bki_4xo1wx7t"
      },
      "source": [
        "\n",
        "\n"
      ]
    },
    {
      "cell_type": "markdown",
      "metadata": {
        "id": "h7vl4889wx7t"
      },
      "source": [
        "Represent the problem as a search problem and take advantage of the implemented search algorithms to find solutions!"
      ]
    },
    {
      "cell_type": "code",
      "execution_count": null,
      "metadata": {
        "id": "-rP5gDB8wx7u"
      },
      "outputs": [],
      "source": [
        "# your code here\n"
      ]
    }
  ],
  "metadata": {
    "kernelspec": {
      "display_name": "Python 3",
      "language": "python",
      "name": "python3"
    },
    "language_info": {
      "codemirror_mode": {
        "name": "ipython",
        "version": 3
      },
      "file_extension": ".py",
      "mimetype": "text/x-python",
      "name": "python",
      "nbconvert_exporter": "python",
      "pygments_lexer": "ipython3",
      "version": "3.12.3"
    },
    "colab": {
      "provenance": []
    }
  },
  "nbformat": 4,
  "nbformat_minor": 0
}